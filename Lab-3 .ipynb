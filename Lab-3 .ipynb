{
 "cells": [
  {
   "cell_type": "markdown",
   "metadata": {},
   "source": [
    "<a href='https://www.darshan.ac.in/'> <img src='https://www.darshan.ac.in/Content/media/DU_Logo.svg' width=\"250\" height=\"300\"/></a>\n",
    "<pre>\n",
    "<center><b><h1>Python Programming - 2101CS405</b></center>\n",
    "<center><b><h1>Lab - 3</b></center>    \n",
    "<pre>\n",
    "<h2 style=\"float:left\">Hetvi Deshani</h2>\n",
    "<h3 style=\"float:right\">22010101041</h3>"
   ]
  },
  {
   "cell_type": "markdown",
   "metadata": {},
   "source": [
    "# for and while loop"
   ]
  },
  {
   "cell_type": "markdown",
   "metadata": {},
   "source": [
    "### 01) WAP to print 1 to 10"
   ]
  },
  {
   "cell_type": "code",
   "execution_count": 1,
   "metadata": {},
   "outputs": [
    {
     "name": "stdout",
     "output_type": "stream",
     "text": [
      "1\n",
      "2\n",
      "3\n",
      "4\n",
      "5\n",
      "6\n",
      "7\n",
      "8\n",
      "9\n"
     ]
    }
   ],
   "source": [
    "for i in range(1,10):\n",
    "    print(i);"
   ]
  },
  {
   "cell_type": "markdown",
   "metadata": {},
   "source": [
    "### 02) WAP to print 1 to n"
   ]
  },
  {
   "cell_type": "code",
   "execution_count": 6,
   "metadata": {},
   "outputs": [
    {
     "name": "stdout",
     "output_type": "stream",
     "text": [
      "Enter a Number : 10\n",
      "1\n",
      "2\n",
      "3\n",
      "4\n",
      "5\n",
      "6\n",
      "7\n",
      "8\n",
      "9\n"
     ]
    }
   ],
   "source": [
    "no = int(input(\"Enter a Number : \"));\n",
    "\n",
    "for i in range(1,no):\n",
    "    print(i);"
   ]
  },
  {
   "cell_type": "markdown",
   "metadata": {},
   "source": [
    "### 03) WAP to print odd numbers between 1 to n"
   ]
  },
  {
   "cell_type": "code",
   "execution_count": 38,
   "metadata": {},
   "outputs": [
    {
     "name": "stdout",
     "output_type": "stream",
     "text": [
      "Enter a Number : 21\n",
      "1\n",
      "3\n",
      "5\n",
      "7\n",
      "9\n",
      "11\n",
      "13\n",
      "15\n",
      "17\n",
      "19\n",
      "21\n"
     ]
    }
   ],
   "source": [
    "no = int(input(\"Enter a Number : \"))\n",
    "\n",
    "for i in range(1,no+1):\n",
    "    if(i%2!=0):\n",
    "        print(i);"
   ]
  },
  {
   "cell_type": "markdown",
   "metadata": {},
   "source": [
    "### 04) WAP to print numbers between two given numbers which is divisible by 2 but not divisible by 3"
   ]
  },
  {
   "cell_type": "code",
   "execution_count": 36,
   "metadata": {},
   "outputs": [
    {
     "name": "stdout",
     "output_type": "stream",
     "text": [
      "Enter 1st Number : 10\n",
      "Enter 2nd Number : 40\n",
      "10\n",
      "14\n",
      "16\n",
      "20\n",
      "22\n",
      "26\n",
      "28\n",
      "32\n",
      "34\n",
      "38\n",
      "40\n"
     ]
    }
   ],
   "source": [
    "no1 = int(input(\"Enter 1st Number : \"))\n",
    "no2 = int(input(\"Enter 2nd Number : \"))\n",
    "\n",
    "for i in range(no1,no2+1):\n",
    "    if(i%2==0 and i%3!= 0):\n",
    "        print(i);"
   ]
  },
  {
   "cell_type": "markdown",
   "metadata": {},
   "source": [
    "### 05) WAP to print sum of 1 to n numbers"
   ]
  },
  {
   "cell_type": "code",
   "execution_count": 35,
   "metadata": {},
   "outputs": [
    {
     "name": "stdout",
     "output_type": "stream",
     "text": [
      "Enter Number : 10\n",
      "Sum : 55\n"
     ]
    }
   ],
   "source": [
    "no = int(input(\"Enter Number : \"))\n",
    "\n",
    "sum=0;\n",
    "\n",
    "for i in range(1,no+1):\n",
    "    sum +=i;\n",
    "print(f\"Sum : {sum}\");"
   ]
  },
  {
   "cell_type": "markdown",
   "metadata": {},
   "source": [
    "### 06) WAP to print sum of series 1 + 4 + 9 + 16 + 25 + 36 + ...n"
   ]
  },
  {
   "cell_type": "code",
   "execution_count": 34,
   "metadata": {},
   "outputs": [
    {
     "name": "stdout",
     "output_type": "stream",
     "text": [
      "Enter Number : 10\n",
      "1 + 4 + 9 + 16 + 25 + 36 + 49 + 64 + 81 + 100 + \n",
      "sum of series : 385\n"
     ]
    }
   ],
   "source": [
    "no = int(input(\"Enter Number : \"))\n",
    "sum = 0;\n",
    "\n",
    "for i in range(1,no+1):\n",
    "    print(f\"{i*i} +\",end=\" \");\n",
    "    sum = sum + (i*i);\n",
    "    \n",
    "print(f\"\\nsum of series : {sum}\")"
   ]
  },
  {
   "cell_type": "markdown",
   "metadata": {},
   "source": [
    "### 07) WAP to print sum of series 1 – 2 + 3 – 4 + 5 – 6 + 7 ... n"
   ]
  },
  {
   "cell_type": "code",
   "execution_count": 55,
   "metadata": {},
   "outputs": [
    {
     "name": "stdout",
     "output_type": "stream",
     "text": [
      "Enter Number : 5\n",
      "+1 -2 +3 -4 +5 \n",
      "sum of series : 3\n"
     ]
    }
   ],
   "source": [
    "no = int(input(\"Enter Number : \"))\n",
    "\n",
    "sum=0;\n",
    "for i in range(1,no+1):\n",
    "    if(i % 2 != 0):\n",
    "        print(f\"+{i}\",end=\" \")\n",
    "        sum+=i;\n",
    "    else:\n",
    "        print(f\"-{i}\",end=\" \")\n",
    "        sum-=i;\n",
    "print(f\"\\nsum of series : {sum}\")"
   ]
  },
  {
   "cell_type": "markdown",
   "metadata": {},
   "source": [
    "### 08) WAP to print multiplication table of given number."
   ]
  },
  {
   "cell_type": "code",
   "execution_count": 33,
   "metadata": {},
   "outputs": [
    {
     "name": "stdout",
     "output_type": "stream",
     "text": [
      "Enter Number : 5\n",
      "5 * 1 = 5\n",
      "5 * 2 = 10\n",
      "5 * 3 = 15\n",
      "5 * 4 = 20\n",
      "5 * 5 = 25\n",
      "5 * 6 = 30\n",
      "5 * 7 = 35\n",
      "5 * 8 = 40\n",
      "5 * 9 = 45\n",
      "5 * 10 = 50\n"
     ]
    }
   ],
   "source": [
    "no = int(input(\"Enter Number : \"))\n",
    "\n",
    "for i in range(1,11):\n",
    "    print(f\"{no} * {i} = {no*i}\");"
   ]
  },
  {
   "cell_type": "markdown",
   "metadata": {},
   "source": [
    "### 09) WAP to find factorial of the given number"
   ]
  },
  {
   "cell_type": "code",
   "execution_count": 32,
   "metadata": {},
   "outputs": [
    {
     "name": "stdout",
     "output_type": "stream",
     "text": [
      "Enter Number : 5\n",
      "factorial : 120\n"
     ]
    }
   ],
   "source": [
    "no = int(input(\"Enter Number : \"))\n",
    "f = 1;\n",
    "for i in range(1,no+1):\n",
    "    f = f * i ;\n",
    "\n",
    "print(f\"factorial : {f}\");"
   ]
  },
  {
   "cell_type": "markdown",
   "metadata": {},
   "source": [
    "### 10) WAP to find factors of the given number"
   ]
  },
  {
   "cell_type": "code",
   "execution_count": 57,
   "metadata": {},
   "outputs": [
    {
     "name": "stdout",
     "output_type": "stream",
     "text": [
      "Enter Number : 10\n",
      "1\n",
      "2\n",
      "5\n",
      "10\n"
     ]
    }
   ],
   "source": [
    "no = int(input(\"Enter Number : \"))\n",
    "\n",
    "for i in range(1,no+1):\n",
    "    if(no%i==0):\n",
    "        print(i);"
   ]
  },
  {
   "cell_type": "markdown",
   "metadata": {},
   "source": [
    "### 11) WAP to find whether the given number is prime or not."
   ]
  },
  {
   "cell_type": "code",
   "execution_count": 67,
   "metadata": {},
   "outputs": [
    {
     "name": "stdout",
     "output_type": "stream",
     "text": [
      "Enter Number : 7\n",
      "7 is prime number\n"
     ]
    }
   ],
   "source": [
    "no = int(input(\"Enter Number : \"))\n",
    "flag = True;\n",
    "\n",
    "for i in range(2,no):\n",
    "    if no % i == 0:\n",
    "        flag = False;\n",
    "        break;\n",
    "\n",
    "if(flag == True):\n",
    "    print(f\"{no} is prime number\");\n",
    "else:\n",
    "    print(f\"{no} is not prime number\");"
   ]
  },
  {
   "cell_type": "markdown",
   "metadata": {},
   "source": [
    "### 12) WAP to print sum of digits of given number"
   ]
  },
  {
   "cell_type": "code",
   "execution_count": 85,
   "metadata": {},
   "outputs": [
    {
     "name": "stdout",
     "output_type": "stream",
     "text": [
      "Enter Number : 123\n",
      "sum 123 is 6\n"
     ]
    }
   ],
   "source": [
    "no = int(input(\"Enter Number : \"))\n",
    "sum=0;\n",
    "temp = no;\n",
    "while(no !=0):\n",
    "    sum +=  no % 10;\n",
    "    no = int(no / 10);\n",
    "print(f\"sum {temp} is {sum}\");"
   ]
  },
  {
   "cell_type": "markdown",
   "metadata": {},
   "source": [
    "### 13) WAP to check whether the given number is palindrome or not"
   ]
  },
  {
   "cell_type": "code",
   "execution_count": 124,
   "metadata": {},
   "outputs": [
    {
     "name": "stdout",
     "output_type": "stream",
     "text": [
      "Enter Number : 121\n",
      "121 is palindrome \n"
     ]
    }
   ],
   "source": [
    "no = input(\"Enter Number : \")\n",
    "rev = no[::-1];\n",
    "\n",
    "if (rev == no):\n",
    "    print(f\"{no} is palindrome \")\n",
    "else:\n",
    "    print(f\"{no} is not palindrome \")"
   ]
  },
  {
   "cell_type": "code",
   "execution_count": 127,
   "metadata": {},
   "outputs": [
    {
     "name": "stdout",
     "output_type": "stream",
     "text": [
      "1\n",
      "2\n",
      "3\n",
      "4\n",
      "5\n",
      "6\n",
      "7\n",
      "8\n",
      "9\n",
      "10\n",
      "10\n",
      "9\n",
      "8\n",
      "7\n",
      "6\n",
      "5\n",
      "4\n",
      "3\n",
      "2\n",
      "1\n"
     ]
    }
   ],
   "source": [
    "# print 1 to 10\n",
    "# print 10 to 1\n",
    "\n",
    "# for i in range(1,11):\n",
    "#     print(i);\n",
    "    \n",
    "for i in range(10,0,-1):\n",
    "    print(i);\n",
    "    "
   ]
  },
  {
   "cell_type": "code",
   "execution_count": 117,
   "metadata": {},
   "outputs": [
    {
     "name": "stdout",
     "output_type": "stream",
     "text": [
      "-1\n",
      "-2\n",
      "-3\n",
      "-4\n",
      "-5\n",
      "-6\n",
      "-7\n",
      "-8\n",
      "-9\n",
      "-10\n"
     ]
    }
   ],
   "source": [
    "# print --1 to -10\n",
    "\n",
    "for i in range(-1,-11,-1):\n",
    "    print(i);"
   ]
  },
  {
   "cell_type": "code",
   "execution_count": 118,
   "metadata": {},
   "outputs": [
    {
     "name": "stdout",
     "output_type": "stream",
     "text": [
      "-10\n",
      "-9\n",
      "-8\n",
      "-7\n",
      "-6\n",
      "-5\n",
      "-4\n",
      "-3\n",
      "-2\n",
      "-1\n"
     ]
    }
   ],
   "source": [
    "# print -10 to -1\n",
    "\n",
    "for i in range(-10,-0,1):\n",
    "    print(i);"
   ]
  }
 ],
 "metadata": {
  "kernelspec": {
   "display_name": "Python 3 (ipykernel)",
   "language": "python",
   "name": "python3"
  },
  "language_info": {
   "codemirror_mode": {
    "name": "ipython",
    "version": 3
   },
   "file_extension": ".py",
   "mimetype": "text/x-python",
   "name": "python",
   "nbconvert_exporter": "python",
   "pygments_lexer": "ipython3",
   "version": "3.9.13"
  }
 },
 "nbformat": 4,
 "nbformat_minor": 4
}
