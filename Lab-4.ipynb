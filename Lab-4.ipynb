{
 "cells": [
  {
   "cell_type": "markdown",
   "metadata": {},
   "source": [
    "<a href='https://www.darshan.ac.in/'> <img src='https://www.darshan.ac.in/Content/media/DU_Logo.svg' width=\"250\" height=\"300\"/></a>\n",
    "<pre>\n",
    "<center><b><h1>PDS - 2305CS303</b></center>\n",
    "<center><b><h1>Lab - 4</b></center>    \n",
    "<pre>"
   ]
  },
  {
   "cell_type": "markdown",
   "metadata": {},
   "source": [
    "# String"
   ]
  },
  {
   "cell_type": "markdown",
   "metadata": {},
   "source": [
    "### 01) WAP to check given string is palindrome or not."
   ]
  },
  {
   "cell_type": "code",
   "execution_count": 5,
   "metadata": {},
   "outputs": [
    {
     "name": "stdout",
     "output_type": "stream",
     "text": [
      "Enter Your String : 121\n",
      "String is palindrome\n"
     ]
    }
   ],
   "source": [
    "s1=input(\"Enter Your String : \")\n",
    "\n",
    "if s1==s1[::-1]:\n",
    "    print(\"String is palindrome\");\n",
    "else : \n",
    "    print(\"String is not palindrome\");\n"
   ]
  },
  {
   "cell_type": "markdown",
   "metadata": {},
   "source": [
    "### 02) WAP to reverse the words in given string."
   ]
  },
  {
   "cell_type": "code",
   "execution_count": 9,
   "metadata": {},
   "outputs": [
    {
     "name": "stdout",
     "output_type": "stream",
     "text": [
      "Enter String : Hello Meet\n",
      "['Hello', 'Meet']\n",
      " olleH teeM\n"
     ]
    }
   ],
   "source": [
    "s1=input(\"Enter String : \")\n",
    "l=s1.split();\n",
    "print(l)\n",
    "s=\"\"\n",
    "for i in l:\n",
    "    s = s+\" \"+i[::-1]\n",
    "\n",
    "print(s)"
   ]
  },
  {
   "cell_type": "markdown",
   "metadata": {},
   "source": [
    "### 03) WAP to remove ith character from given string"
   ]
  },
  {
   "cell_type": "code",
   "execution_count": 20,
   "metadata": {},
   "outputs": [
    {
     "name": "stdout",
     "output_type": "stream",
     "text": [
      "Enter a String : Meet\n",
      "Enter a character : e\n",
      "Met\n"
     ]
    }
   ],
   "source": [
    "s1 = input(\"Enter a String : \")\n",
    "ch = input(\"Enter a character : \");\n",
    "\n",
    "index = s1.index(ch)\n",
    "\n",
    "s1 = s1[:index] + s1[index+1:];\n",
    "\n",
    "print(s1)"
   ]
  },
  {
   "cell_type": "markdown",
   "metadata": {},
   "source": [
    "### 04) WAP to find length of String without using len function."
   ]
  },
  {
   "cell_type": "code",
   "execution_count": 22,
   "metadata": {},
   "outputs": [
    {
     "name": "stdout",
     "output_type": "stream",
     "text": [
      "Enter a String : Meet Dholakiya\n",
      "14\n"
     ]
    }
   ],
   "source": [
    "s1 = input(\"Enter a String : \")\n",
    "count=0;\n",
    "\n",
    "for i in s1:\n",
    "    count+=1;\n",
    "    \n",
    "print(count)"
   ]
  },
  {
   "cell_type": "markdown",
   "metadata": {},
   "source": [
    "### 05) WAP to print even length word in string."
   ]
  },
  {
   "cell_type": "code",
   "execution_count": 33,
   "metadata": {},
   "outputs": [
    {
     "name": "stdout",
     "output_type": "stream",
     "text": [
      "Enter a String : Meet Meet Meet\n",
      "3\n"
     ]
    }
   ],
   "source": [
    "s1 = input(\"Enter a String : \")\n",
    "word1 = s1.split(); \n",
    "count=0;\n",
    "\n",
    "for word in word1:\n",
    "    if(len(word) % 2 == 0):\n",
    "#         count+=1;\n",
    "        print(count)  \n",
    "  "
   ]
  },
  {
   "cell_type": "markdown",
   "metadata": {},
   "source": [
    "### 06) WAP to count numbers of vowels in given string."
   ]
  },
  {
   "cell_type": "code",
   "execution_count": 38,
   "metadata": {},
   "outputs": [
    {
     "name": "stdout",
     "output_type": "stream",
     "text": [
      "Enter a String : Hello Meet\n",
      "4\n"
     ]
    }
   ],
   "source": [
    "s1 = input(\"Enter a String : \").upper()\n",
    "vowel = \"AEIOU\"\n",
    "word1 = s1.split();\n",
    "count=0;\n",
    "\n",
    "for i in s1:\n",
    "    if i in vowel :\n",
    "        count+=1;\n",
    "print(count)  "
   ]
  },
  {
   "cell_type": "markdown",
   "metadata": {},
   "source": [
    "### 07) WAP to convert given array to string."
   ]
  },
  {
   "cell_type": "code",
   "execution_count": 52,
   "metadata": {},
   "outputs": [
    {
     "name": "stdout",
     "output_type": "stream",
     "text": [
      "Enter a Size : 5\n",
      "Enter Number : 1\n",
      "Enter Number : 2\n",
      "Enter Number : 3\n",
      "Enter Number : 4\n",
      "Enter Number : 5\n",
      "1,2,3,4,5\n"
     ]
    }
   ],
   "source": [
    "s1 = int(input(\"Enter a Size : \"))\n",
    "a1 = [];\n",
    "\n",
    "for i in range(s1):\n",
    "    a1.append(input(\"Enter Number : \"))\n",
    "\n",
    "print(\",\".join(a1))\n",
    "\n",
    "# a1 = [\"Hello\",\"Meet\"];\n",
    "# print(\" \".join(a1))"
   ]
  },
  {
   "cell_type": "markdown",
   "metadata": {},
   "source": [
    "### 01) WAP to find out duplicate characters in given string."
   ]
  },
  {
   "cell_type": "code",
   "execution_count": null,
   "metadata": {},
   "outputs": [],
   "source": []
  },
  {
   "cell_type": "markdown",
   "metadata": {},
   "source": [
    "### 02) WAP to capitalize the first and last character of each word in a string."
   ]
  },
  {
   "cell_type": "code",
   "execution_count": 62,
   "metadata": {},
   "outputs": [
    {
     "name": "stdout",
     "output_type": "stream",
     "text": [
      "Enter a String : hello meet\n",
      "HellO MeeT\n"
     ]
    }
   ],
   "source": [
    "s1 = input(\"Enter a String : \");\n",
    "\n",
    "w1 = s1.split();\n",
    "\n",
    "for i in range(len(w1)):\n",
    "    w1[i] = w1[i][0].upper() + w1[i][1:-1] + w1[i][-1].upper();\n",
    "\n",
    "print(\" \".join(w1))"
   ]
  },
  {
   "cell_type": "markdown",
   "metadata": {},
   "source": [
    "### 03) WAP to find Maximum frequency character in String."
   ]
  },
  {
   "cell_type": "code",
   "execution_count": null,
   "metadata": {},
   "outputs": [],
   "source": []
  },
  {
   "cell_type": "markdown",
   "metadata": {},
   "source": [
    "### 04) WAP to find Minimum frequency character in String."
   ]
  },
  {
   "cell_type": "code",
   "execution_count": null,
   "metadata": {},
   "outputs": [],
   "source": []
  },
  {
   "cell_type": "markdown",
   "metadata": {},
   "source": [
    "### 05) WAP to check if a given string is binary string or not"
   ]
  },
  {
   "cell_type": "code",
   "execution_count": null,
   "metadata": {},
   "outputs": [],
   "source": []
  },
  {
   "cell_type": "code",
   "execution_count": null,
   "metadata": {},
   "outputs": [],
   "source": []
  }
 ],
 "metadata": {
  "kernelspec": {
   "display_name": "Python 3 (ipykernel)",
   "language": "python",
   "name": "python3"
  },
  "language_info": {
   "codemirror_mode": {
    "name": "ipython",
    "version": 3
   },
   "file_extension": ".py",
   "mimetype": "text/x-python",
   "name": "python",
   "nbconvert_exporter": "python",
   "pygments_lexer": "ipython3",
   "version": "3.9.13"
  },
  "vscode": {
   "interpreter": {
    "hash": "31f2aee4e71d21fbe5cf8b01ff0e069b9275f58929596ceb00d14d90e3e16cd6"
   }
  }
 },
 "nbformat": 4,
 "nbformat_minor": 4
}
