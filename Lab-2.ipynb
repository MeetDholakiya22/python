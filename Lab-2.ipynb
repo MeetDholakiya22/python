{
 "cells": [
  {
   "cell_type": "markdown",
   "metadata": {},
   "source": [
    "<a href='https://www.darshan.ac.in/'> <img src='https://www.darshan.ac.in/Content/media/DU_Logo.svg' width=\"250\" height=\"300\"/></a>\n",
    "<pre>\n",
    "<center><b><h1>PDS - 2305CS303</b></center>\n",
    "<center><b><h1>Lab - 2</b></center>    \n",
    "<pre>"
   ]
  },
  {
   "cell_type": "markdown",
   "metadata": {},
   "source": [
    "# if..else.."
   ]
  },
  {
   "cell_type": "markdown",
   "metadata": {},
   "source": [
    "### 01) WAP to check whether the given number is positive or negative."
   ]
  },
  {
   "cell_type": "code",
   "execution_count": 6,
   "metadata": {},
   "outputs": [
    {
     "name": "stdout",
     "output_type": "stream",
     "text": [
      "Enter the number : 0\n",
      "Number is Zero\n"
     ]
    }
   ],
   "source": [
    "n1 = int(input(\"Enter the number : \"))\n",
    "\n",
    "if(n1 > 0):\n",
    "    print(\"Number is positive\")\n",
    "elif (n1 < 0):\n",
    "    print(\"Number is negative\")\n",
    "else:\n",
    "    print(\"Number is Zero\")"
   ]
  },
  {
   "cell_type": "markdown",
   "metadata": {},
   "source": [
    "### 02) WAP to check whether the given number is odd or even"
   ]
  },
  {
   "cell_type": "code",
   "execution_count": 10,
   "metadata": {},
   "outputs": [
    {
     "name": "stdout",
     "output_type": "stream",
     "text": [
      "Enter the number : 11\n",
      "11 Number is odd\n"
     ]
    }
   ],
   "source": [
    "n2 = int(input(\"Enter the number : \"))\n",
    "\n",
    "if(n2 % 2 == 0):\n",
    "    print(f\"{n2} Number is even\")\n",
    "else:\n",
    "    print(f\"{n2} Number is odd\")"
   ]
  },
  {
   "cell_type": "markdown",
   "metadata": {},
   "source": [
    "### 03) WAP to find out largest number from given two numbers using simple if and ternary operator."
   ]
  },
  {
   "cell_type": "code",
   "execution_count": 14,
   "metadata": {},
   "outputs": [
    {
     "name": "stdout",
     "output_type": "stream",
     "text": [
      "Enter the number 1st : 10\n",
      "Enter the number 2nd : 20\n",
      "20 is largest \n"
     ]
    }
   ],
   "source": [
    "n1 = int(input(\"Enter the number 1st : \"))\n",
    "n2 = int(input(\"Enter the number 2nd : \"))\n",
    "\n",
    "largest = print(f\"{n1} is largest \") if(n1>n2) else print(f\"{n2} is largest \")  "
   ]
  },
  {
   "cell_type": "markdown",
   "metadata": {},
   "source": [
    "### 04) WAP to find out largest number from given three numbers."
   ]
  },
  {
   "cell_type": "code",
   "execution_count": 19,
   "metadata": {},
   "outputs": [
    {
     "name": "stdout",
     "output_type": "stream",
     "text": [
      "Enter the number 1st : 10\n",
      "Enter the number 2nd : 20\n",
      "Enter the number 3rd : 20\n",
      "20 is larhest\n"
     ]
    }
   ],
   "source": [
    "n1 = int(input(\"Enter the number 1st : \"))\n",
    "n2 = int(input(\"Enter the number 2nd : \"))\n",
    "n3 = int(input(\"Enter the number 3rd : \"))\n",
    "\n",
    "if n1 > n2:\n",
    "    if n1 > n3:\n",
    "        print(f\"{n1} is largest\")\n",
    "    else:\n",
    "        print(f\"{n3} is largest\")\n",
    "else :\n",
    "    if n2 > n3:\n",
    "        print(f\"{n2} is largest\")\n",
    "    else:\n",
    "        print(f\"{n3} is largest\")\n",
    "\n",
    "        \n"
   ]
  },
  {
   "cell_type": "markdown",
   "metadata": {},
   "source": [
    "### 05) WAP to check whether the given year is leap year or not.\n",
    "[If a year can be divisible by 4 but not divisible by 100 then it is leap year but if it is divisible by 400 then it is leap year]"
   ]
  },
  {
   "cell_type": "code",
   "execution_count": 26,
   "metadata": {},
   "outputs": [
    {
     "name": "stdout",
     "output_type": "stream",
     "text": [
      "Enter the year : 2023\n",
      "2023 is not leap year\n"
     ]
    }
   ],
   "source": [
    "yy = int(input(\"Enter the year : \"))\n",
    "\n",
    "if(yy % 4 == 0 and yy % 100 !=0) or (yy % 400 == 0):\n",
    "    print(f\"{yy} is leap year\")\n",
    "else:\n",
    "    print(f\"{yy} is not leap year\")\n",
    "    "
   ]
  },
  {
   "cell_type": "markdown",
   "metadata": {},
   "source": [
    "### 06) WAP in python to display the name of the day according to the number given by the user"
   ]
  },
  {
   "cell_type": "code",
   "execution_count": 27,
   "metadata": {},
   "outputs": [
    {
     "name": "stdout",
     "output_type": "stream",
     "text": [
      "Enter the number : 2\n",
      "Monday\n"
     ]
    }
   ],
   "source": [
    "n1 = int(input(\"Enter the number : \"))\n",
    "\n",
    "if(n1 == 1):\n",
    "    print(\"Sunday\")\n",
    "elif(n1 == 2):\n",
    "    print(\"Monday\")\n",
    "elif(n1 == 3):\n",
    "    print(\"Tuesday\")\n",
    "elif(n1 == 4):\n",
    "    print(\"Wednesday\")\n",
    "elif(n1 == 5):\n",
    "    print(\"Thursday\")\n",
    "elif(n1 == 6):\n",
    "    print(\"Friday\")\n",
    "elif(n1==7):\n",
    "    print(\"Saturday\")\n"
   ]
  },
  {
   "cell_type": "markdown",
   "metadata": {},
   "source": [
    "### 07) WAP to implement simple calculator which performs (add,sub,mul,div) of two no. based on user input."
   ]
  },
  {
   "cell_type": "code",
   "execution_count": 59,
   "metadata": {},
   "outputs": [
    {
     "name": "stdout",
     "output_type": "stream",
     "text": [
      "Enter the number : 20\n",
      "Enter the number : 10\n",
      "Enter Your choice : 4\n",
      "20/10 :2.0\n"
     ]
    }
   ],
   "source": [
    "n1 = int(input(\"Enter the number : \"))\n",
    "n2 = int(input(\"Enter the number : \"))\n",
    "\n",
    "# input(\"\\n1.add\\n2.sub\\n3.mul\\n4.div\")\n",
    "ch = int(input(\"Enter Your choice : \"))\n",
    "\n",
    "if ch == 1:\n",
    "    print(f\"{n1}+{n2} :{n1+n2}\")\n",
    "elif ch == 2:\n",
    "    print(f\"{n1}-{n2} :{n1-n2}\")\n",
    "elif ch == 3:\n",
    "    print(f\"{n1}*{n2} :{n1*n2}\")\n",
    "elif ch == 4:\n",
    "    print(f\"{n1}/{n2} :{n1/n2}\")\n",
    "    \n",
    "    \n",
    "\n",
    "# match ch:\n",
    "#     case 1:\n",
    "#         print(f\"{n1}+{n2} : {n1+n2}\")\n",
    "#     case 2:\n",
    "#         print(f\"{n1}-{n2} : {n1-n2}\")\n",
    "#     case 3:\n",
    "#         print(f\"{n1}*{n2} : {n1*n2}\")\n",
    "#     case 4:\n",
    "#         print(f\"{n1}/{n2} : {n1/n2})\n",
    "        "
   ]
  },
  {
   "cell_type": "markdown",
   "metadata": {},
   "source": [
    "### 08) WAP to calculate electricity bill based on following criteria. Which takes the unit from the user.\n",
    "a. First 1 to 50 units – Rs. 2.60/unit</br>\n",
    "b. Next 50 to 100 units – Rs. 3.25/unit</br>\n",
    "c. Next 100 to 200 units – Rs. 5.26/unit</br>\n",
    "d. above 200 units – Rs. 8.45/unit"
   ]
  },
  {
   "cell_type": "code",
   "execution_count": 60,
   "metadata": {},
   "outputs": [
    {
     "name": "stdout",
     "output_type": "stream",
     "text": [
      "Enter Unit : 200\n",
      "Bill : 818.5\n"
     ]
    }
   ],
   "source": [
    "unit = float(input(\"Enter Unit : \"))\n",
    "bill = 0 \n",
    "\n",
    "if unit >= 1 and unit < 50 : \n",
    "    bill = unit * 2.60\n",
    "elif unit >= 50 and unit < 100 : \n",
    "    bill = (50*2.60) + (unit-50) * 3.25  \n",
    "elif unit >= 100 and unit <=200 :\n",
    "    bill = (50*2.60) + (50*3.25) + (unit - 100)*5.26\n",
    "elif unit >= 200:\n",
    "    bill = (50*2.60) + (50*3.25) + (100*5.26) + (unit-200)*8.45\n",
    "    \n",
    "print(f\"Bill : {bill}\")"
   ]
  },
  {
   "cell_type": "code",
   "execution_count": null,
   "metadata": {},
   "outputs": [],
   "source": []
  }
 ],
 "metadata": {
  "kernelspec": {
   "display_name": "Python 3 (ipykernel)",
   "language": "python",
   "name": "python3"
  },
  "language_info": {
   "codemirror_mode": {
    "name": "ipython",
    "version": 3
   },
   "file_extension": ".py",
   "mimetype": "text/x-python",
   "name": "python",
   "nbconvert_exporter": "python",
   "pygments_lexer": "ipython3",
   "version": "3.9.13"
  }
 },
 "nbformat": 4,
 "nbformat_minor": 4
}
