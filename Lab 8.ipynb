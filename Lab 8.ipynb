{
 "cells": [
  {
   "cell_type": "markdown",
   "metadata": {
    "id": "eJolnUehWxH4"
   },
   "source": []
  },
  {
   "cell_type": "markdown",
   "metadata": {
    "id": "4STvlfm3WxH6"
   },
   "source": [
    "<a href='https://www.darshan.ac.in/'> <img src='https://www.darshan.ac.in/Content/media/DU_Logo.svg' width=\"250\" height=\"300\"/></a>\n",
    "<pre>\n",
    "<center><b><h1>2305CS303 - Python for Data Science</b></center>\n",
    "<center><b><h1>Lab - 8</b></center>    \n",
    "<pre>"
   ]
  },
  {
   "cell_type": "markdown",
   "metadata": {
    "id": "pB8jJqehWxH7"
   },
   "source": [
    "#### import numpy as np"
   ]
  },
  {
   "cell_type": "code",
   "execution_count": 3,
   "metadata": {
    "id": "F_NvNpiOWxH7"
   },
   "outputs": [],
   "source": [
    "import numpy as np"
   ]
  },
  {
   "cell_type": "markdown",
   "metadata": {
    "id": "VsckBSY-WxH8"
   },
   "source": [
    "#### Create an array of 10 zeros"
   ]
  },
  {
   "cell_type": "code",
   "execution_count": 4,
   "metadata": {
    "id": "k4kvWbtfWxH9",
    "outputId": "38d65cd4-caf0-433f-f780-e79c818b2a92"
   },
   "outputs": [
    {
     "name": "stdout",
     "output_type": "stream",
     "text": [
      "[0. 0. 0. 0. 0. 0. 0. 0. 0. 0.]\n"
     ]
    }
   ],
   "source": [
    "arr = np.zeros(10)\n",
    "print(arr)"
   ]
  },
  {
   "cell_type": "markdown",
   "metadata": {
    "id": "RizCYmLPWxH_"
   },
   "source": [
    "Output should be = array([0., 0., 0., 0., 0., 0., 0., 0., 0., 0.])"
   ]
  },
  {
   "cell_type": "markdown",
   "metadata": {
    "id": "NJzh35YlWxH_"
   },
   "source": [
    "#### Create an array of 10 ones"
   ]
  },
  {
   "cell_type": "code",
   "execution_count": 5,
   "metadata": {
    "id": "TU8uZkeYWxIA",
    "outputId": "d0f3f337-f20b-4ba3-a7ec-63fc89cba7a2"
   },
   "outputs": [
    {
     "name": "stdout",
     "output_type": "stream",
     "text": [
      "[1. 1. 1. 1. 1. 1. 1. 1. 1. 1.]\n"
     ]
    }
   ],
   "source": [
    "arr = np.ones(10)\n",
    "print(arr)"
   ]
  },
  {
   "cell_type": "markdown",
   "metadata": {
    "id": "OKITRpvnWxIA"
   },
   "source": [
    "Output should be = array([1., 1., 1., 1., 1., 1., 1., 1., 1., 1.])"
   ]
  },
  {
   "cell_type": "markdown",
   "metadata": {
    "id": "Z59gVAo_WxIB"
   },
   "source": [
    "#### Create an array of 10 fives"
   ]
  },
  {
   "cell_type": "code",
   "execution_count": 6,
   "metadata": {
    "id": "qo6v-PFCWxIB",
    "outputId": "c61f3312-cd07-4d78-8ca1-be17b0d1ad7d"
   },
   "outputs": [
    {
     "name": "stdout",
     "output_type": "stream",
     "text": [
      "[5. 5. 5. 5. 5. 5. 5. 5. 5. 5.]\n"
     ]
    }
   ],
   "source": [
    "arr = np.ones(10) * 5\n",
    "\n",
    "print(arr)"
   ]
  },
  {
   "cell_type": "markdown",
   "metadata": {
    "id": "gRV-anBwWxIB"
   },
   "source": [
    "Output should be = array([5., 5., 5., 5., 5., 5., 5., 5., 5., 5.])"
   ]
  },
  {
   "cell_type": "markdown",
   "metadata": {
    "id": "6BTJ4mvBWxIB"
   },
   "source": [
    "#### Create an array of the integers from 10 to 50"
   ]
  },
  {
   "cell_type": "code",
   "execution_count": 8,
   "metadata": {
    "id": "t2QjTisRWxIC",
    "outputId": "cb29a5ab-2374-4e69-89e2-fded1ae56faf"
   },
   "outputs": [
    {
     "name": "stdout",
     "output_type": "stream",
     "text": [
      "[10 11 12 13 14 15 16 17 18 19 20 21 22 23 24 25 26 27 28 29 30 31 32 33\n",
      " 34 35 36 37 38 39 40 41 42 43 44 45 46 47 48 49 50]\n"
     ]
    }
   ],
   "source": [
    "arr = np.arange(10,51)\n",
    "print(arr)"
   ]
  },
  {
   "cell_type": "markdown",
   "metadata": {
    "id": "hNmeUp0lWxIC"
   },
   "source": [
    "Output should be = array([10, 11, 12, 13, 14, 15, 16, 17, 18, 19, 20, 21, 22, 23, 24, 25, 26,\n",
    "       27, 28, 29, 30, 31, 32, 33, 34, 35, 36, 37, 38, 39, 40, 41, 42, 43,\n",
    "       44, 45, 46, 47, 48, 49, 50])"
   ]
  },
  {
   "cell_type": "markdown",
   "metadata": {
    "id": "sXd6p17mWxIC"
   },
   "source": [
    "#### Create an array of all the even integers from 10 to 50"
   ]
  },
  {
   "cell_type": "code",
   "execution_count": 9,
   "metadata": {
    "id": "d-t0q_OEWxID",
    "outputId": "608cba87-6f56-4366-f06c-43f9cd92b8ee"
   },
   "outputs": [
    {
     "name": "stdout",
     "output_type": "stream",
     "text": [
      "[10 12 14 16 18 20 22 24 26 28 30 32 34 36 38 40 42 44 46 48 50]\n"
     ]
    }
   ],
   "source": [
    "arr = np.arange(10,51,2)\n",
    "print(arr)"
   ]
  },
  {
   "cell_type": "markdown",
   "metadata": {
    "id": "Y7l7CZhIWxID"
   },
   "source": [
    "Output should be = array([10, 12, 14, 16, 18, 20, 22, 24, 26, 28, 30, 32, 34, 36, 38, 40, 42,\n",
    "       44, 46, 48, 50])"
   ]
  },
  {
   "cell_type": "markdown",
   "metadata": {
    "id": "2T3vh7EKWxID"
   },
   "source": [
    "#### Create a 3x3 matrix with values ranging from 0 to 8"
   ]
  },
  {
   "cell_type": "code",
   "execution_count": 10,
   "metadata": {
    "id": "lSdoXRCIWxID",
    "outputId": "974db1cc-e801-4571-b54b-ce7020a0cdea"
   },
   "outputs": [
    {
     "name": "stdout",
     "output_type": "stream",
     "text": [
      "[[0 1 2]\n",
      " [3 4 5]\n",
      " [6 7 8]]\n"
     ]
    }
   ],
   "source": [
    "arr = np.arange(0,9).reshape(3,3)\n",
    "print(arr)"
   ]
  },
  {
   "cell_type": "markdown",
   "metadata": {
    "id": "_M3bszDgWxIE"
   },
   "source": [
    "Output should be = <br/>\n",
    "<pre>array([[0, 1, 2],\n",
    "       [3, 4, 5],\n",
    "       [6, 7, 8]])</pre>"
   ]
  },
  {
   "cell_type": "markdown",
   "metadata": {
    "id": "O-74ZUCmWxIE"
   },
   "source": [
    "#### Create a 3x3 identity matrix"
   ]
  },
  {
   "cell_type": "code",
   "execution_count": 12,
   "metadata": {
    "id": "6htefIc5WxIE",
    "outputId": "9a1f2956-28b0-41a4-c00a-1c65f2825dfc"
   },
   "outputs": [
    {
     "name": "stdout",
     "output_type": "stream",
     "text": [
      "[[1. 0. 0.]\n",
      " [0. 1. 0.]\n",
      " [0. 0. 1.]]\n"
     ]
    }
   ],
   "source": [
    "arr = np.eye(3)\n",
    "print(arr)"
   ]
  },
  {
   "cell_type": "markdown",
   "metadata": {
    "id": "spACDkVKWxIE"
   },
   "source": [
    "Output should be = <br/>\n",
    "<pre>array([[1., 0., 0.],\n",
    "       [0., 1., 0.],\n",
    "       [0., 0., 1.]])</pre>"
   ]
  },
  {
   "cell_type": "markdown",
   "metadata": {
    "id": "cyW9VHHoWxIF"
   },
   "source": [
    "#### Use NumPy to generate a random number between 0 and 1"
   ]
  },
  {
   "cell_type": "code",
   "execution_count": 31,
   "metadata": {
    "id": "2e0Y6vxHWxIF",
    "outputId": "44395e69-53c7-468b-cfc0-63cee49bb8a4"
   },
   "outputs": [
    {
     "name": "stdout",
     "output_type": "stream",
     "text": [
      "[0.30293048]\n"
     ]
    }
   ],
   "source": [
    "arr = np.random.rand(1)\n",
    "print(arr)"
   ]
  },
  {
   "cell_type": "markdown",
   "metadata": {
    "id": "9x-hiyOVWxIF"
   },
   "source": [
    "#### Use NumPy to generate an array of 25 random numbers sampled from a standard normal distribution"
   ]
  },
  {
   "cell_type": "code",
   "execution_count": 58,
   "metadata": {
    "id": "tvpMOr0FWxIF",
    "outputId": "1bbc8975-5836-4b53-8033-9c0ada416efd"
   },
   "outputs": [
    {
     "name": "stdout",
     "output_type": "stream",
     "text": [
      "[[0.02130236 0.76601941 0.92447166 0.4182121  0.79813944]\n",
      " [0.75147872 0.7935085  0.94660681 0.74466814 0.67024219]\n",
      " [0.325008   0.96627666 0.07856453 0.1508876  0.75050282]\n",
      " [0.25415223 0.95208545 0.61405125 0.09044949 0.43004305]\n",
      " [0.03039949 0.74113386 0.61651504 0.94342453 0.8060024 ]]\n"
     ]
    }
   ],
   "source": [
    "arr = np.random.rand(25).reshape(5,5)\n",
    "print(arr)"
   ]
  },
  {
   "cell_type": "markdown",
   "metadata": {
    "id": "lenrRYKnWxIF"
   },
   "source": [
    "#### Create the following matrix:"
   ]
  },
  {
   "cell_type": "code",
   "execution_count": 24,
   "metadata": {
    "id": "qe8VzIWfWxIF",
    "outputId": "ecda1987-f0c4-40df-e3a3-7750e4c36bc0"
   },
   "outputs": [
    {
     "name": "stdout",
     "output_type": "stream",
     "text": [
      "[[0.01 0.02 0.03 0.04 0.05 0.06 0.07 0.08 0.09 0.1 ]\n",
      " [0.11 0.12 0.13 0.14 0.15 0.16 0.17 0.18 0.19 0.2 ]\n",
      " [0.21 0.22 0.23 0.24 0.25 0.26 0.27 0.28 0.29 0.3 ]\n",
      " [0.31 0.32 0.33 0.34 0.35 0.36 0.37 0.38 0.39 0.4 ]\n",
      " [0.41 0.42 0.43 0.44 0.45 0.46 0.47 0.48 0.49 0.5 ]\n",
      " [0.51 0.52 0.53 0.54 0.55 0.56 0.57 0.58 0.59 0.6 ]\n",
      " [0.61 0.62 0.63 0.64 0.65 0.66 0.67 0.68 0.69 0.7 ]\n",
      " [0.71 0.72 0.73 0.74 0.75 0.76 0.77 0.78 0.79 0.8 ]\n",
      " [0.81 0.82 0.83 0.84 0.85 0.86 0.87 0.88 0.89 0.9 ]\n",
      " [0.91 0.92 0.93 0.94 0.95 0.96 0.97 0.98 0.99 1.  ]]\n"
     ]
    }
   ],
   "source": [
    "arr = np.arange(1,101).reshape(10,10)/100\n",
    "print(arr)"
   ]
  },
  {
   "cell_type": "markdown",
   "metadata": {
    "id": "ca9sMwewWxIG"
   },
   "source": [
    "Output should be = <br/>[[0.01, 0.02, 0.03, 0.04, 0.05, 0.06, 0.07, 0.08, 0.09, 0.1 ],<br/>\n",
    "       [0.11, 0.12, 0.13, 0.14, 0.15, 0.16, 0.17, 0.18, 0.19, 0.2 ],<br/>\n",
    "       [0.21, 0.22, 0.23, 0.24, 0.25, 0.26, 0.27, 0.28, 0.29, 0.3 ],<br/>\n",
    "       [0.31, 0.32, 0.33, 0.34, 0.35, 0.36, 0.37, 0.38, 0.39, 0.4 ],<br/>\n",
    "       [0.41, 0.42, 0.43, 0.44, 0.45, 0.46, 0.47, 0.48, 0.49, 0.5 ],<br/>\n",
    "       [0.51, 0.52, 0.53, 0.54, 0.55, 0.56, 0.57, 0.58, 0.59, 0.6 ],<br/>\n",
    "       [0.61, 0.62, 0.63, 0.64, 0.65, 0.66, 0.67, 0.68, 0.69, 0.7 ],<br/>\n",
    "       [0.71, 0.72, 0.73, 0.74, 0.75, 0.76, 0.77, 0.78, 0.79, 0.8 ],<br/>\n",
    "       [0.81, 0.82, 0.83, 0.84, 0.85, 0.86, 0.87, 0.88, 0.89, 0.9 ],<br/>\n",
    "       [0.91, 0.92, 0.93, 0.94, 0.95, 0.96, 0.97, 0.98, 0.99, 1.  ]]"
   ]
  },
  {
   "cell_type": "markdown",
   "metadata": {
    "id": "k9qZS6_0WxIG"
   },
   "source": [
    "#### Create an array of 20 linearly spaced points between 0 and 1:"
   ]
  },
  {
   "cell_type": "code",
   "execution_count": 57,
   "metadata": {
    "id": "vhwtrDQqWxIG",
    "outputId": "9d0e2adc-cad9-4bbe-cf07-7e717ec2b9c0"
   },
   "outputs": [
    {
     "name": "stdout",
     "output_type": "stream",
     "text": [
      "[[0.         0.05263158 0.10526316 0.15789474 0.21052632]\n",
      " [0.26315789 0.31578947 0.36842105 0.42105263 0.47368421]\n",
      " [0.52631579 0.57894737 0.63157895 0.68421053 0.73684211]\n",
      " [0.78947368 0.84210526 0.89473684 0.94736842 1.        ]]\n"
     ]
    }
   ],
   "source": [
    "arr = np.linspace(0,1,20).reshape(4,5)\n",
    "print(arr)"
   ]
  },
  {
   "cell_type": "markdown",
   "metadata": {
    "id": "KHA_K5h1WxIG"
   },
   "source": [
    "array([0.        , 0.05263158, 0.10526316, 0.15789474, 0.21052632,\n",
    "       0.26315789, 0.31578947, 0.36842105, 0.42105263, 0.47368421,\n",
    "       0.52631579, 0.57894737, 0.63157895, 0.68421053, 0.73684211,\n",
    "       0.78947368, 0.84210526, 0.89473684, 0.94736842, 1.        ])"
   ]
  },
  {
   "cell_type": "markdown",
   "metadata": {
    "id": "EwVhyJcAWxIG"
   },
   "source": [
    "## Numpy Indexing and Slicing\n"
   ]
  },
  {
   "cell_type": "code",
   "execution_count": 64,
   "metadata": {
    "id": "UnmCVAw-WxIG",
    "outputId": "ebe1ad0e-32b1-4d06-e8ea-b6c96eede188"
   },
   "outputs": [
    {
     "name": "stdout",
     "output_type": "stream",
     "text": [
      "[[ 1  2  3  4  5]\n",
      " [ 6  7  8  9 10]\n",
      " [11 12 13 14 15]\n",
      " [16 17 18 19 20]\n",
      " [21 22 23 24 25]]\n"
     ]
    }
   ],
   "source": [
    "arr = np.arange(1,26).reshape(5,5)\n",
    "print(arr)"
   ]
  },
  {
   "cell_type": "markdown",
   "metadata": {
    "id": "vLLxBGITWxIH"
   },
   "source": [
    "Output should be = <br/>\n",
    "<pre>array([[ 1,  2,  3,  4,  5],\n",
    "       [ 6,  7,  8,  9, 10],\n",
    "       [11, 12, 13, 14, 15],\n",
    "       [16, 17, 18, 19, 20],\n",
    "       [21, 22, 23, 24, 25]])</pre>"
   ]
  },
  {
   "cell_type": "code",
   "execution_count": 69,
   "metadata": {
    "id": "r8g5w8j3WxIH",
    "outputId": "a9915b30-4874-40d5-bd7b-38cad44b2823"
   },
   "outputs": [
    {
     "data": {
      "text/plain": [
       "array([[12, 13, 14, 15],\n",
       "       [17, 18, 19, 20],\n",
       "       [22, 23, 24, 25]])"
      ]
     },
     "execution_count": 69,
     "metadata": {},
     "output_type": "execute_result"
    }
   ],
   "source": [
    "arr[2:,1:]"
   ]
  },
  {
   "cell_type": "markdown",
   "metadata": {
    "id": "nPEF6YpAWxIH"
   },
   "source": [
    "Output should be =\n",
    "<pre>array([[12, 13, 14, 15],\n",
    "       [17, 18, 19, 20],\n",
    "       [22, 23, 24, 25]])</pre>"
   ]
  },
  {
   "cell_type": "code",
   "execution_count": 71,
   "metadata": {
    "id": "M0RA1FXTWxII",
    "outputId": "e3f61342-bf1a-4d81-a810-b79b42073bd6"
   },
   "outputs": [
    {
     "data": {
      "text/plain": [
       "20"
      ]
     },
     "execution_count": 71,
     "metadata": {},
     "output_type": "execute_result"
    }
   ],
   "source": [
    "arr[3,4]"
   ]
  },
  {
   "cell_type": "markdown",
   "metadata": {
    "id": "qSgcz63rWxII"
   },
   "source": [
    "Output should be = 20 (element at specific index)"
   ]
  },
  {
   "cell_type": "code",
   "execution_count": 83,
   "metadata": {
    "id": "6qfGwoJJWxII",
    "outputId": "6d8cfca2-7e69-47c1-c01b-7d78d935576d"
   },
   "outputs": [
    {
     "data": {
      "text/plain": [
       "array([[ 2],\n",
       "       [ 7],\n",
       "       [12]])"
      ]
     },
     "execution_count": 83,
     "metadata": {},
     "output_type": "execute_result"
    }
   ],
   "source": [
    "arr[:3,1:2]"
   ]
  },
  {
   "cell_type": "markdown",
   "metadata": {
    "id": "fb_AIbDWWxII"
   },
   "source": [
    "Output should be = <br/>\n",
    "<pre>array([[ 2],\n",
    "       [ 7],\n",
    "       [12]])</pre>"
   ]
  },
  {
   "cell_type": "code",
   "execution_count": 84,
   "metadata": {
    "id": "D5eL_jRXWxIJ",
    "outputId": "8d88e31e-7ab5-4c7c-c555-7cb480d6dda6"
   },
   "outputs": [
    {
     "data": {
      "text/plain": [
       "array([[21, 22, 23, 24, 25]])"
      ]
     },
     "execution_count": 84,
     "metadata": {},
     "output_type": "execute_result"
    }
   ],
   "source": [
    "arr[4:,0:]"
   ]
  },
  {
   "cell_type": "markdown",
   "metadata": {
    "id": "i-dYR3ORWxIJ"
   },
   "source": [
    "Output should be = array([21, 22, 23, 24, 25])"
   ]
  },
  {
   "cell_type": "code",
   "execution_count": 85,
   "metadata": {
    "id": "pSffshCQWxIJ",
    "outputId": "c970118e-a8b6-4113-c067-04d623748a6a"
   },
   "outputs": [
    {
     "data": {
      "text/plain": [
       "array([[16, 17, 18, 19, 20],\n",
       "       [21, 22, 23, 24, 25]])"
      ]
     },
     "execution_count": 85,
     "metadata": {},
     "output_type": "execute_result"
    }
   ],
   "source": [
    "arr[3:,0:]"
   ]
  },
  {
   "cell_type": "markdown",
   "metadata": {
    "id": "6ZRhKCYCWxIJ"
   },
   "source": [
    "Output should be =  <br/>\n",
    "<pre>array([[16, 17, 18, 19, 20],\n",
    "       [21, 22, 23, 24, 25]])</pre>"
   ]
  },
  {
   "cell_type": "code",
   "execution_count": 87,
   "metadata": {
    "id": "p5MKW13fWxIJ",
    "outputId": "bbf162b2-eb26-4779-98fe-3e8cc5369ec9"
   },
   "outputs": [
    {
     "name": "stdout",
     "output_type": "stream",
     "text": [
      "[ 3  6  9 12 18 21 24]\n"
     ]
    }
   ],
   "source": [
    "arr1 = arr[(arr % 3 == 0)&(arr % 5 != 0)]\n",
    "print(arr1)"
   ]
  },
  {
   "cell_type": "markdown",
   "metadata": {
    "id": "qJ4ZSRRfWxIK"
   },
   "source": [
    "Print all the number which are divisible by 3 but not by 5<br/>\n",
    "Output should be = [ 3  6  9 12 18 21 24]"
   ]
  },
  {
   "cell_type": "markdown",
   "metadata": {
    "id": "Krjm9wQwWxIK"
   },
   "source": [
    "### Now do the following"
   ]
  },
  {
   "cell_type": "markdown",
   "metadata": {
    "id": "QPg6BR67WxIK"
   },
   "source": [
    "#### Get the sum of all the values in mat"
   ]
  },
  {
   "cell_type": "code",
   "execution_count": 94,
   "metadata": {
    "id": "mLdWnAP_WxIK",
    "outputId": "eb85476b-e8df-48f5-db57-5bff6ecbddc1"
   },
   "outputs": [
    {
     "name": "stdout",
     "output_type": "stream",
     "text": [
      "325\n"
     ]
    }
   ],
   "source": [
    "arr1 = np.sum(arr)\n",
    "print(arr1)"
   ]
  },
  {
   "cell_type": "markdown",
   "metadata": {
    "id": "-bmATBl2WxIK"
   },
   "source": [
    "Output should be = 325"
   ]
  },
  {
   "cell_type": "markdown",
   "metadata": {
    "id": "8B_p7oMwWxIK"
   },
   "source": [
    "#### Get the standard deviation of the values in mat"
   ]
  },
  {
   "cell_type": "code",
   "execution_count": 95,
   "metadata": {
    "id": "yqF08RwlWxIL",
    "outputId": "2908c603-d1b8-4912-a6b5-f67548cfa505"
   },
   "outputs": [
    {
     "name": "stdout",
     "output_type": "stream",
     "text": [
      "7.211102550927978\n"
     ]
    }
   ],
   "source": [
    "arr1 = np.std(arr)\n",
    "print(arr1)"
   ]
  },
  {
   "cell_type": "markdown",
   "metadata": {
    "id": "MxEU5RyPWxIL"
   },
   "source": [
    "Output should be = 7.211102550927978"
   ]
  },
  {
   "cell_type": "markdown",
   "metadata": {
    "id": "Xcmjwzb-WxIL"
   },
   "source": [
    "#### Get the sum of all the columns in mat"
   ]
  },
  {
   "cell_type": "code",
   "execution_count": 93,
   "metadata": {
    "id": "r_6d_uUkWxIL",
    "outputId": "b6d2deef-d180-4d76-919f-33d41d3a95c0"
   },
   "outputs": [
    {
     "name": "stdout",
     "output_type": "stream",
     "text": [
      "[55 60 65 70 75]\n"
     ]
    }
   ],
   "source": [
    "arr1 = sum(arr)\n",
    "print(arr1)"
   ]
  },
  {
   "cell_type": "markdown",
   "metadata": {
    "id": "H9fR-jYpWxIL"
   },
   "source": [
    "Output should be = array([55, 60, 65, 70, 75])"
   ]
  },
  {
   "cell_type": "markdown",
   "metadata": {
    "collapsed": true,
    "id": "lJaETf_EWxIL"
   },
   "source": [
    "# Nice work, Keep the spark alive"
   ]
  },
  {
   "cell_type": "markdown",
   "metadata": {
    "id": "nxaKw2AmWxIM"
   },
   "source": [
    "================= End of Assignemnt =================="
   ]
  }
 ],
 "metadata": {
  "colab": {
   "provenance": []
  },
  "kernelspec": {
   "display_name": "Python 3 (ipykernel)",
   "language": "python",
   "name": "python3"
  },
  "language_info": {
   "codemirror_mode": {
    "name": "ipython",
    "version": 3
   },
   "file_extension": ".py",
   "mimetype": "text/x-python",
   "name": "python",
   "nbconvert_exporter": "python",
   "pygments_lexer": "ipython3",
   "version": "3.9.13"
  }
 },
 "nbformat": 4,
 "nbformat_minor": 1
}
