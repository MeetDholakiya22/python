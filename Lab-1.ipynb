{
 "cells": [
  {
   "cell_type": "markdown",
   "metadata": {},
   "source": [
    "<a href='https://www.darshan.ac.in/'> <img src='https://www.darshan.ac.in/Content/media/DU_Logo.svg' width=\"250\" height=\"300\"/></a>\n",
    "<pre>\n",
    "<center><b><h1>PDS - 2305CS303</b></center>\n",
    "<center><b><h1>Lab - 1</b></center>    \n",
    "<pre>"
   ]
  },
  {
   "cell_type": "markdown",
   "metadata": {},
   "source": [
    "### 01) WAP to print “Hello World”"
   ]
  },
  {
   "cell_type": "code",
   "execution_count": 1,
   "metadata": {},
   "outputs": [
    {
     "name": "stdout",
     "output_type": "stream",
     "text": [
      "Hello World\n"
     ]
    }
   ],
   "source": [
    "print(\"Hello World\")"
   ]
  },
  {
   "cell_type": "markdown",
   "metadata": {},
   "source": [
    "### 02) WAP to print your address i) using single print ii) using multiple print"
   ]
  },
  {
   "cell_type": "code",
   "execution_count": 3,
   "metadata": {},
   "outputs": [
    {
     "name": "stdout",
     "output_type": "stream",
     "text": [
      "B-1006, Shree Ram Township , opp.Khodiyar Party Plot , nr.SpeedWell Party Plot\n",
      "B-1006\n",
      "Shree Ram Township\n",
      "opp.Khodiyar Party Plot\n",
      "nr.SpeedWell Party Plot\n"
     ]
    }
   ],
   "source": [
    "print(\"B-1006, Shree Ram Township , opp.Khodiyar Party Plot , nr.SpeedWell Party Plot\");\n",
    "print(\"B-1006\")\n",
    "print(\"Shree Ram Township\")\n",
    "print(\"opp.Khodiyar Party Plot\")\n",
    "print(\"nr.SpeedWell Party Plot\")"
   ]
  },
  {
   "cell_type": "markdown",
   "metadata": {},
   "source": [
    "### 03) WAP to print addition of 2 numbers (without input function)"
   ]
  },
  {
   "cell_type": "code",
   "execution_count": 12,
   "metadata": {},
   "outputs": [
    {
     "name": "stdout",
     "output_type": "stream",
     "text": [
      "50\n"
     ]
    }
   ],
   "source": [
    "a=30;\n",
    "b=20;\n",
    "print(a+b)"
   ]
  },
  {
   "cell_type": "markdown",
   "metadata": {},
   "source": [
    "### 04) WAP to calculate and print average of 2 numbers (without input function)"
   ]
  },
  {
   "cell_type": "code",
   "execution_count": 5,
   "metadata": {},
   "outputs": [
    {
     "name": "stdout",
     "output_type": "stream",
     "text": [
      "10.0\n"
     ]
    }
   ],
   "source": [
    "print((a+b)/2)"
   ]
  },
  {
   "cell_type": "markdown",
   "metadata": {},
   "source": [
    "### 05) WAP to add two number entered by user."
   ]
  },
  {
   "cell_type": "code",
   "execution_count": 6,
   "metadata": {},
   "outputs": [
    {
     "name": "stdout",
     "output_type": "stream",
     "text": [
      "Enter n1 :10\n",
      "Enter n2 :20\n",
      "Sum :  30\n"
     ]
    }
   ],
   "source": [
    "n1=int(input(\"Enter n1 :\"))\n",
    "n2=int(input(\"Enter n2 :\"))\n",
    "\n",
    "print(\"Sum : \",(n1+n2));"
   ]
  },
  {
   "cell_type": "markdown",
   "metadata": {},
   "source": [
    "### 06) Purposefully raise Indentation Error and Correct it."
   ]
  },
  {
   "cell_type": "code",
   "execution_count": 13,
   "metadata": {},
   "outputs": [
    {
     "name": "stdout",
     "output_type": "stream",
     "text": [
      "a is big\n"
     ]
    }
   ],
   "source": [
    "if(a>b):\n",
    "    print(\"a is big\")\n",
    "else:\n",
    "    print(\"b is big\")"
   ]
  },
  {
   "cell_type": "markdown",
   "metadata": {},
   "source": [
    "### 07) WAP to calculate simple interest."
   ]
  },
  {
   "cell_type": "code",
   "execution_count": 16,
   "metadata": {},
   "outputs": [
    {
     "name": "stdout",
     "output_type": "stream",
     "text": [
      "simple interest :  614.4\n"
     ]
    }
   ],
   "source": [
    "p=1280;\n",
    "r=12;\n",
    "n=4;\n",
    "\n",
    "si=(p*r*n)/100;\n",
    "\n",
    "print(\"simple interest : \",si)"
   ]
  },
  {
   "cell_type": "markdown",
   "metadata": {},
   "source": [
    "### 08) WAP Calculate Area and Circumfrence of Circle"
   ]
  },
  {
   "cell_type": "code",
   "execution_count": 18,
   "metadata": {},
   "outputs": [
    {
     "name": "stdout",
     "output_type": "stream",
     "text": [
      "Area :  78.5\n",
      "Circumfrence of Circle :  31.400000000000002\n"
     ]
    }
   ],
   "source": [
    "pi=3.14;\n",
    "r=5;\n",
    "\n",
    "area = pi*r*r;\n",
    "circumfrence =2*pi*r;\n",
    "\n",
    "print(\"Area : \",area)\n",
    "print(\"Circumfrence of Circle : \",circumfrence)"
   ]
  },
  {
   "cell_type": "markdown",
   "metadata": {},
   "source": [
    "### 09) WAP to print Multiplication table of given number without using loops."
   ]
  },
  {
   "cell_type": "code",
   "execution_count": 22,
   "metadata": {},
   "outputs": [
    {
     "name": "stdout",
     "output_type": "stream",
     "text": [
      "Enter a : 5\n",
      "5 * 1  = 5\n",
      "5 * 2  = 10\n",
      "5 * 3  = 15\n",
      "5 * 4  = 20\n",
      "5 * 5  = 25\n",
      "5 * 6  = 30\n",
      "5 * 7  = 35\n",
      "5 * 8  = 40\n",
      "5 * 9  = 45\n",
      "5 * 10 = 50\n"
     ]
    }
   ],
   "source": [
    "no=int(input(\"Enter a : \"))\n",
    "\n",
    "print(no,\"* 1  =\",(no*1))\n",
    "print(no,\"* 2  =\",(no*2))\n",
    "print(no,\"* 3  =\",(no*3))\n",
    "print(no,\"* 4  =\",(no*4))\n",
    "print(no,\"* 5  =\",(no*5))\n",
    "print(no,\"* 6  =\",(no*6))\n",
    "print(no,\"* 7  =\",(no*7))\n",
    "print(no,\"* 8  =\",(no*8))\n",
    "print(no,\"* 9  =\",(no*9))\n",
    "print(no,\"* 10 =\",(no*10))\n"
   ]
  },
  {
   "cell_type": "markdown",
   "metadata": {},
   "source": [
    "### 10) WAP to calculate Area of Triangle (hint: a = h * b * 0.5)"
   ]
  },
  {
   "cell_type": "code",
   "execution_count": 24,
   "metadata": {},
   "outputs": [
    {
     "name": "stdout",
     "output_type": "stream",
     "text": [
      "Enter h:20\n",
      "Enter b:40\n",
      "Area of Triangle :  400.0\n"
     ]
    }
   ],
   "source": [
    "h=int(input(\"Enter h:\"))\n",
    "b=int(input(\"Enter b:\"))\n",
    "\n",
    "a=(h*b*0.5);\n",
    "\n",
    "print(\"Area of Triangle : \",a);"
   ]
  },
  {
   "cell_type": "markdown",
   "metadata": {},
   "source": [
    "### 11) WAP to convert degree to Fahrenheit and vice versa."
   ]
  },
  {
   "cell_type": "code",
   "execution_count": 34,
   "metadata": {},
   "outputs": [
    {
     "name": "stdout",
     "output_type": "stream",
     "text": [
      "Enter Fahrenheit : 75\n",
      "Celsius :  23.89\n",
      "Enter Celsius : 23\n",
      "Celsius :  75.0\n"
     ]
    }
   ],
   "source": [
    "Fahrenheit = int(input(\"Enter Fahrenheit : \"));\n",
    "Celsius = (Fahrenheit-32)/1.8;\n",
    "print(\"Celsius : \",round(Celsius,2));\n",
    "\n",
    "Celsius1 = int(input(\"Enter Celsius : \"));\n",
    "Fahrenheit = (Celsius*1.8)+32\n",
    "print(\"Celsius : \",Fahrenheit);"
   ]
  },
  {
   "cell_type": "markdown",
   "metadata": {},
   "source": [
    "### 12) WAP to calculate total marks and Percentage."
   ]
  },
  {
   "cell_type": "code",
   "execution_count": 37,
   "metadata": {},
   "outputs": [
    {
     "name": "stdout",
     "output_type": "stream",
     "text": [
      "Enter m1:50\n",
      "Enter m2:50\n",
      "Enter m3:50\n",
      "Enter m4:0\n",
      "Enter m5:50\n",
      "Total  :  200\n"
     ]
    }
   ],
   "source": [
    "m1=int(input(\"Enter m1:\"))\n",
    "m2=int(input(\"Enter m2:\"))\n",
    "m3=int(input(\"Enter m3:\"))\n",
    "m4=int(input(\"Enter m4:\"))\n",
    "m5=int(input(\"Enter m5:\"))\n",
    "\n",
    "total = (m1+m2+m3+m4+m5);\n",
    "\n",
    "print(\"Total  : \",total)"
   ]
  },
  {
   "cell_type": "code",
   "execution_count": 38,
   "metadata": {},
   "outputs": [
    {
     "name": "stdout",
     "output_type": "stream",
     "text": [
      "Percentage :  40.0\n"
     ]
    }
   ],
   "source": [
    "print(\"Percentage : \",(total/5))"
   ]
  }
 ],
 "metadata": {
  "kernelspec": {
   "display_name": "Python 3 (ipykernel)",
   "language": "python",
   "name": "python3"
  },
  "language_info": {
   "codemirror_mode": {
    "name": "ipython",
    "version": 3
   },
   "file_extension": ".py",
   "mimetype": "text/x-python",
   "name": "python",
   "nbconvert_exporter": "python",
   "pygments_lexer": "ipython3",
   "version": "3.11.5"
  },
  "vscode": {
   "interpreter": {
    "hash": "31f2aee4e71d21fbe5cf8b01ff0e069b9275f58929596ceb00d14d90e3e16cd6"
   }
  }
 },
 "nbformat": 4,
 "nbformat_minor": 4
}
