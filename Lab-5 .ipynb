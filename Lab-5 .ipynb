{
 "cells": [
  {
   "cell_type": "markdown",
   "metadata": {},
   "source": [
    "<a href='https://www.darshan.ac.in/'> <img src='https://www.darshan.ac.in/Content/media/DU_Logo.svg' width=\"250\" height=\"300\"/></a>\n",
    "<pre>\n",
    "<center><b><h1>PDS - 2305CS303</b></center>\n",
    "<center><b><h1>Lab - 5</b></center>    \n",
    "<pre>"
   ]
  },
  {
   "cell_type": "markdown",
   "metadata": {},
   "source": [
    "# list"
   ]
  },
  {
   "cell_type": "markdown",
   "metadata": {},
   "source": [
    "### 01) WAP to find sum of all the elements in List."
   ]
  },
  {
   "cell_type": "code",
   "execution_count": 13,
   "metadata": {},
   "outputs": [
    {
     "name": "stdout",
     "output_type": "stream",
     "text": [
      "Enter List Size : 3\n",
      "Enter Value : 10\n",
      "Enter Value : 20\n",
      "Enter Value : 30\n",
      "Sum of list : 60\n"
     ]
    }
   ],
   "source": [
    "size = int(input(\"Enter List Size : \"))\n",
    "list1=[];\n",
    "for i in range(0,size):\n",
    "    list1.append(int(input(\"Enter Value : \")))\n",
    "    \n",
    "print(f\"Sum of list : {sum(list1)}\")\n",
    "\n",
    "\n",
    "    "
   ]
  },
  {
   "cell_type": "markdown",
   "metadata": {},
   "source": [
    "### 02) WAP to find largest element in a List."
   ]
  },
  {
   "cell_type": "code",
   "execution_count": 16,
   "metadata": {},
   "outputs": [
    {
     "name": "stdout",
     "output_type": "stream",
     "text": [
      "Enter List Size : 3\n",
      "Enter Value : 10\n",
      "Enter Value : 5\n",
      "Enter Value : 15\n",
      "largest element : 15 \n"
     ]
    }
   ],
   "source": [
    "size = int(input(\"Enter List Size : \"))\n",
    "list1=[];\n",
    "for i in range(0,size):\n",
    "    list1.append(int(input(\"Enter Value : \")))\n",
    "    \n",
    "print(f\"largest element : {max(list1)} \")"
   ]
  },
  {
   "cell_type": "markdown",
   "metadata": {},
   "source": [
    "### 03) WAP to split the List into two and append the first part to the end."
   ]
  },
  {
   "cell_type": "code",
   "execution_count": 21,
   "metadata": {},
   "outputs": [
    {
     "name": "stdout",
     "output_type": "stream",
     "text": [
      "Enter List Size :5\n",
      "Enter Value :1\n",
      "Enter Value :2\n",
      "Enter Value :3\n",
      "Enter Value :4\n",
      "Enter Value :5\n",
      "[1, 2, 3, 4, 5]\n",
      "Enter List Element :3\n",
      "[4, 5, 1, 2, 3]\n"
     ]
    }
   ],
   "source": [
    "size = int(input(\"Enter List Size :\"))\n",
    "list1=[];\n",
    "for i in range(0,size):\n",
    "    list1.append(int(input(\"Enter Value :\")))\n",
    "print(list1)\n",
    "\n",
    "e = int(input(\"Enter List Element :\"))\n",
    "\n",
    "list2 = list1[0:e]\n",
    "list3 = list1[e:]\n",
    "\n",
    "list3.extend(list2)\n",
    "\n",
    "print(list3)\n"
   ]
  },
  {
   "cell_type": "markdown",
   "metadata": {},
   "source": [
    "### 04) WAP to interchange first and last elements in list entered by a user."
   ]
  },
  {
   "cell_type": "code",
   "execution_count": 28,
   "metadata": {},
   "outputs": [
    {
     "name": "stdout",
     "output_type": "stream",
     "text": [
      "Enter List Size :4\n",
      "Enter Value :10\n",
      "Enter Value :20\n",
      "Enter Value :30\n",
      "Enter Value :40\n",
      "[10, 20, 30, 40]\n",
      "[40, 20, 30, 10]\n"
     ]
    }
   ],
   "source": [
    "size = int(input(\"Enter List Size :\"))\n",
    "list1=[];\n",
    "for i in range(0,size):\n",
    "    list1.append(int(input(\"Enter Value :\")))\n",
    "print(list1)\n",
    "\n",
    "temp = list1[0];\n",
    "list1[0] = list1[-1];\n",
    "list1[-1] = temp;\n",
    "\n",
    "print(list1);"
   ]
  },
  {
   "cell_type": "markdown",
   "metadata": {},
   "source": [
    "### 05) WAP to interchange the elements on two positions entered by a user."
   ]
  },
  {
   "cell_type": "code",
   "execution_count": 31,
   "metadata": {},
   "outputs": [
    {
     "name": "stdout",
     "output_type": "stream",
     "text": [
      "Enter List Size :4\n",
      "Enter Value :10\n",
      "Enter Value :20\n",
      "Enter Value :30\n",
      "Enter Value :40\n",
      "[10, 20, 30, 40]\n",
      "Enter List Element :2\n",
      "Enter List Element :3\n",
      "[10, 20, 40, 30]\n"
     ]
    }
   ],
   "source": [
    "size = int(input(\"Enter List Size :\"))\n",
    "list1=[];\n",
    "for i in range(0,size):\n",
    "    list1.append(int(input(\"Enter Value :\")))\n",
    "print(list1)\n",
    "\n",
    "e1 = int(input(\"Enter List Element Index :\"))\n",
    "e2 = int(input(\"Enter List Element Index :\"))\n",
    "\n",
    "temp = list1[e1];\n",
    "list1[e1] = list1[e2];\n",
    "list1[e2] = temp;\n",
    "\n",
    "print(list1)"
   ]
  },
  {
   "cell_type": "markdown",
   "metadata": {},
   "source": [
    "### 06) WAP to reverses the list entered by user."
   ]
  },
  {
   "cell_type": "code",
   "execution_count": 33,
   "metadata": {},
   "outputs": [
    {
     "name": "stdout",
     "output_type": "stream",
     "text": [
      "Enter List Size :4\n",
      "Enter Value :10\n",
      "Enter Value :20\n",
      "Enter Value :30\n",
      "Enter Value :40\n",
      "[10, 20, 30, 40]\n",
      "[40, 30, 20, 10]\n"
     ]
    }
   ],
   "source": [
    "size = int(input(\"Enter List Size :\"))\n",
    "list1=[];\n",
    "for i in range(0,size):\n",
    "    list1.append(int(input(\"Enter Value :\")))\n",
    "print(list1)\n",
    "print(list1[::-1])\n",
    "\n"
   ]
  },
  {
   "cell_type": "markdown",
   "metadata": {},
   "source": [
    "### 07) Python program to remove multiple elements from a list using list comprehension"
   ]
  },
  {
   "cell_type": "code",
   "execution_count": 38,
   "metadata": {},
   "outputs": [
    {
     "name": "stdout",
     "output_type": "stream",
     "text": [
      "Enter List1 Size :3\n",
      "Enter Value :10\n",
      "Enter Value :20\n",
      "Enter Value :30\n",
      "[10, 20, 30]\n",
      "Enter List1 Size : 1\n",
      "Enter Value :1\n",
      "[1]\n",
      "[10, 30]\n"
     ]
    }
   ],
   "source": [
    "size1 = int(input(\"Enter List1 Size :\"))\n",
    "list1=[];\n",
    "for i in range(0,size1):\n",
    "    list1.append(int(input(\"Enter Value :\")))\n",
    "print(list1)\n",
    "\n",
    "size2 = int(input(\"Enter List1 Size : \"))\n",
    "list2=[]\n",
    "for i in range(0,size2):\n",
    "    list2.append(int(input(\"Enter Value :\")))\n",
    "print(list2)\n",
    "\n",
    "l3 = [list1[i] for i in range(0,len(list1)) if i not in list2]\n",
    "\n",
    "print(l3)\n"
   ]
  },
  {
   "cell_type": "markdown",
   "metadata": {},
   "source": [
    "### 08) Create a list from the specified start to end index of another list."
   ]
  },
  {
   "cell_type": "code",
   "execution_count": 43,
   "metadata": {},
   "outputs": [
    {
     "name": "stdout",
     "output_type": "stream",
     "text": [
      "Enter List1 Size :8\n",
      "Enter Value :1\n",
      "Enter Value :2\n",
      "Enter Value :3\n",
      "Enter Value :4\n",
      "Enter Value :5\n",
      "Enter Value :6\n",
      "Enter Value :7\n",
      "Enter Value :8\n",
      "[1, 2, 3, 4, 5, 6, 7, 8]\n",
      "Enter List Element Index :3\n",
      "Enter List Element Index :7\n",
      "[4, 5, 6, 7]\n"
     ]
    }
   ],
   "source": [
    "size1 = int(input(\"Enter List1 Size :\"))\n",
    "list1=[];\n",
    "for i in range(0,size1):\n",
    "    list1.append(int(input(\"Enter Value :\")))\n",
    "print(list1)\n",
    "\n",
    "e1 = int(input(\"Enter List Element Index :\"))\n",
    "e2 = int(input(\"Enter List Element Index :\"))\n",
    "list2 = list1[e1:e2]\n",
    "\n",
    "print(list2)"
   ]
  },
  {
   "cell_type": "markdown",
   "metadata": {},
   "source": [
    "### 09) Input comma separated elements, convert into list and print."
   ]
  },
  {
   "cell_type": "code",
   "execution_count": 48,
   "metadata": {},
   "outputs": [
    {
     "name": "stdout",
     "output_type": "stream",
     "text": [
      "Enter Element With Comma Separated :1,2,3,4\n",
      "['1', '2', '3', '4']\n"
     ]
    }
   ],
   "source": [
    "str1 = input(\"Enter Element With Comma Separated :\")\n",
    "list1 = str1.split(\",\")\n",
    "print(list1)"
   ]
  },
  {
   "cell_type": "markdown",
   "metadata": {},
   "source": [
    "### 01) WAP to count Even and Odd numbers in a List."
   ]
  },
  {
   "cell_type": "code",
   "execution_count": 53,
   "metadata": {},
   "outputs": [
    {
     "name": "stdout",
     "output_type": "stream",
     "text": [
      "Enter List1 Size :5\n",
      "Enter Value :1\n",
      "Enter Value :2\n",
      "Enter Value :3\n",
      "Enter Value :4\n",
      "Enter Value :5\n",
      "[1, 2, 3, 4, 5]\n",
      "Odd : 3 , even : 2\n"
     ]
    }
   ],
   "source": [
    "size1 = int(input(\"Enter List1 Size :\"))\n",
    "list1=[];\n",
    "for i in range(0,size1):\n",
    "    list1.append(int(input(\"Enter Value :\")))\n",
    "print(list1)\n",
    "\n",
    "even = len([i for i in list1 if(i%2==0)]);\n",
    "odd = len([i for i in list1 if(i%2!=0)]);\n",
    "\n",
    "# for i in range(0,len(list1)):\n",
    "#     if(i%2==0):\n",
    "#         even+=1;\n",
    "#     else:\n",
    "#         odd+=1;\n",
    "    \n",
    "print(f\"Odd : {odd} , even : {even}\")"
   ]
  },
  {
   "cell_type": "markdown",
   "metadata": {},
   "source": [
    "### 02) Python program to find N largest and smallest elements from the list"
   ]
  },
  {
   "cell_type": "code",
   "execution_count": 54,
   "metadata": {},
   "outputs": [
    {
     "name": "stdout",
     "output_type": "stream",
     "text": [
      "Enter List1 Size :5\n",
      "Enter Value :1\n",
      "Enter Value :5\n",
      "Enter Value :7\n",
      "Enter Value :2\n",
      "Enter Value :9\n",
      "[1, 5, 7, 2, 9]\n",
      "minimum : 1 , maximum : 9\n"
     ]
    }
   ],
   "source": [
    "size1 = int(input(\"Enter List1 Size :\"))\n",
    "list1=[];\n",
    "for i in range(0,size1):\n",
    "    list1.append(int(input(\"Enter Value :\")))\n",
    "print(list1)\n",
    "\n",
    "minimum = min(list1)\n",
    "maximum = max(list1)\n",
    "\n",
    "print(f\"minimum : {minimum} , maximum : {maximum}\")"
   ]
  },
  {
   "cell_type": "markdown",
   "metadata": {},
   "source": [
    "### 03) WAP to print duplicates from a list of integers"
   ]
  },
  {
   "cell_type": "code",
   "execution_count": null,
   "metadata": {},
   "outputs": [],
   "source": [
    "size1 = int(input(\"Enter List1 Size :\"))\n",
    "list1=[];\n",
    "for i in range(0,size1):\n",
    "    list1.append(int(input(\"Enter Value :\")))\n",
    "print(list1)\n"
   ]
  }
 ],
 "metadata": {
  "kernelspec": {
   "display_name": "Python 3 (ipykernel)",
   "language": "python",
   "name": "python3"
  },
  "language_info": {
   "codemirror_mode": {
    "name": "ipython",
    "version": 3
   },
   "file_extension": ".py",
   "mimetype": "text/x-python",
   "name": "python",
   "nbconvert_exporter": "python",
   "pygments_lexer": "ipython3",
   "version": "3.9.12"
  }
 },
 "nbformat": 4,
 "nbformat_minor": 4
}
