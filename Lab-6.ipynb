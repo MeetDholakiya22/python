{
 "cells": [
  {
   "cell_type": "markdown",
   "metadata": {},
   "source": [
    "<a href='https://www.darshan.ac.in/'> <img src='https://www.darshan.ac.in/Content/media/DU_Logo.svg' width=\"250\" height=\"300\"/></a>\n",
    "<pre>\n",
    "<center><b><h1>2305CS303 - Python for Data Science</b></center>\n",
    "<center><b><h1>Lab - 6</b></center>    \n",
    "<pre>"
   ]
  },
  {
   "cell_type": "markdown",
   "metadata": {},
   "source": [
    "# Tuples, dictionary, set"
   ]
  },
  {
   "cell_type": "markdown",
   "metadata": {},
   "source": [
    "# A"
   ]
  },
  {
   "cell_type": "markdown",
   "metadata": {},
   "source": [
    "### 01) WAP to sort python dictionary by key or value."
   ]
  },
  {
   "cell_type": "code",
   "execution_count": 10,
   "metadata": {},
   "outputs": [
    {
     "name": "stdout",
     "output_type": "stream",
     "text": [
      "Enter size : 2\n",
      "Enter Key : 3\n",
      "Enter value : hi\n",
      "Enter Key : 1\n",
      "Enter value : meet\n",
      "{1: 'meet', 3: 'hi'}\n"
     ]
    }
   ],
   "source": [
    "dic = {};\n",
    "size = int(input(\"Enter size : \"))\n",
    "\n",
    "for i in range(0,size):\n",
    "    key = int(input(\"Enter Key : \"))\n",
    "    value = input(\"Enter value : \")\n",
    "    dic[key] = value;\n",
    "\n",
    "    \n",
    "print(dict(sorted(dic.items())));\n"
   ]
  },
  {
   "cell_type": "markdown",
   "metadata": {},
   "source": [
    "### 02) WAP to merge two dictionaries given by user."
   ]
  },
  {
   "cell_type": "code",
   "execution_count": 22,
   "metadata": {},
   "outputs": [
    {
     "name": "stdout",
     "output_type": "stream",
     "text": [
      "Enter size : 2\n",
      "Enter Key : 1\n",
      "Enter value : hi\n",
      "Enter Key : 2\n",
      "Enter value : meet\n",
      "Enter size : 2\n",
      "Enter Key : 3\n",
      "Enter value : hii\n",
      "Enter Key : 4\n",
      "Enter value : raj\n",
      "{1: 'hi', 2: 'meet'}\n",
      "{3: 'hii', 4: 'raj'}\n",
      "{1: 'hi', 2: 'meet', 3: 'hii', 4: 'raj'}\n"
     ]
    }
   ],
   "source": [
    "dic1 = {};\n",
    "size1 = int(input(\"Enter size : \"))\n",
    "\n",
    "\n",
    "for i in range(0,size1):\n",
    "    key = int(input(\"Enter Key : \"))\n",
    "    value = input(\"Enter value : \")\n",
    "    dic1[key] = value;\n",
    "    \n",
    "# print 2nd dict    \n",
    "dic2 = {};\n",
    "size2 = int(input(\"Enter size : \"))\n",
    "\n",
    "for i in range(0,size2):\n",
    "    key = int(input(\"Enter Key : \"))\n",
    "    value = input(\"Enter value : \")\n",
    "    dic2[key] = value;\n",
    "\n",
    "    \n",
    "print(dic1)\n",
    "print(dic2)\n",
    "\n",
    "dic1.update(dic2)\n",
    "\n",
    "print(dic1)"
   ]
  },
  {
   "cell_type": "markdown",
   "metadata": {},
   "source": [
    "### 03) WAP to find tuples that have all elements divisible by K from a list of tuples."
   ]
  },
  {
   "cell_type": "code",
   "execution_count": 17,
   "metadata": {},
   "outputs": [
    {
     "name": "stdout",
     "output_type": "stream",
     "text": [
      "Enter number : 2\n",
      "(4, 8, 6)\n",
      "(2, 4, 6)\n"
     ]
    }
   ],
   "source": [
    "l1 = [(1,2,3),(4,8,6),(2,4,6)]\n",
    "k = int(input(\"Enter number : \"))\n",
    "\n",
    "for i in l1:\n",
    "    flag = 0\n",
    "    for j in i:\n",
    "        if j % k != 0:\n",
    "            flag=1\n",
    "            break\n",
    "            \n",
    "    if(flag == 0):\n",
    "        print(i)\n",
    "            \n"
   ]
  },
  {
   "cell_type": "markdown",
   "metadata": {},
   "source": [
    "### 04) WAP to find Tuples with positive elements in List of tuples."
   ]
  },
  {
   "cell_type": "code",
   "execution_count": 72,
   "metadata": {},
   "outputs": [],
   "source": [
    "\n",
    "l1 = [(-1,2),(-3,4),(5,6)];\n",
    "\n",
    "for i in range(len(l1)):\n",
    "    flag = 0;\n",
    "    for j in range(len(l1[i])):\n",
    "        if l1[i][j] > 0:\n",
    "            flag = 1;\n",
    "            break;\n",
    "    if flag == 0:\n",
    "        print(l1[i]);"
   ]
  },
  {
   "cell_type": "markdown",
   "metadata": {},
   "source": [
    "### 05) WAP which perform union of two sets."
   ]
  },
  {
   "cell_type": "code",
   "execution_count": 43,
   "metadata": {},
   "outputs": [
    {
     "name": "stdout",
     "output_type": "stream",
     "text": [
      "{1, 2, 3, 4, 5, 7, 8}\n"
     ]
    }
   ],
   "source": [
    "t1 = {1,2,3,4,5}\n",
    "t2 = {1,3,8,4,7}\n",
    "print(t1.union(t2));"
   ]
  },
  {
   "cell_type": "markdown",
   "metadata": {},
   "source": [
    "# B"
   ]
  },
  {
   "cell_type": "markdown",
   "metadata": {},
   "source": [
    "### 01) WAP to convert binary tuple into integer."
   ]
  },
  {
   "cell_type": "code",
   "execution_count": 79,
   "metadata": {},
   "outputs": [
    {
     "name": "stdout",
     "output_type": "stream",
     "text": [
      "15\n"
     ]
    }
   ],
   "source": [
    "t = (1,1,1,1)\n",
    "dec =0;\n",
    "length= len(t)-1;\n",
    "for i in range(len(t)):\n",
    "    dec += t[i] *(2**length);\n",
    "    length-=1;\n",
    "print(dec);\n"
   ]
  },
  {
   "cell_type": "markdown",
   "metadata": {},
   "source": [
    "### 02) WAP to count frequency in list by dictionary."
   ]
  },
  {
   "cell_type": "code",
   "execution_count": null,
   "metadata": {},
   "outputs": [],
   "source": []
  },
  {
   "cell_type": "markdown",
   "metadata": {},
   "source": [
    "### 03) WAP to remove all the duplicate words from the list using dictionary."
   ]
  },
  {
   "cell_type": "code",
   "execution_count": null,
   "metadata": {},
   "outputs": [],
   "source": []
  }
 ],
 "metadata": {
  "kernelspec": {
   "display_name": "Python 3 (ipykernel)",
   "language": "python",
   "name": "python3"
  },
  "language_info": {
   "codemirror_mode": {
    "name": "ipython",
    "version": 3
   },
   "file_extension": ".py",
   "mimetype": "text/x-python",
   "name": "python",
   "nbconvert_exporter": "python",
   "pygments_lexer": "ipython3",
   "version": "3.9.13"
  }
 },
 "nbformat": 4,
 "nbformat_minor": 4
}
