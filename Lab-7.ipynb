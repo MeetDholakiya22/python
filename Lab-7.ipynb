{
 "cells": [
  {
   "cell_type": "markdown",
   "metadata": {},
   "source": [
    "<a href='https://www.darshan.ac.in/'> <img src='https://www.darshan.ac.in/Content/media/DU_Logo.svg' width=\"250\" height=\"300\"/></a>\n",
    "<pre>\n",
    "<center><b><h1>2305CS303 - Python for Data Science</b></center>\n",
    "<center><b><h1>Lab - 7</b></center>    \n",
    "<pre>"
   ]
  },
  {
   "cell_type": "markdown",
   "metadata": {},
   "source": [
    "# Functions"
   ]
  },
  {
   "cell_type": "markdown",
   "metadata": {},
   "source": [
    "### 01) WAP to count simple interest using function."
   ]
  },
  {
   "cell_type": "code",
   "execution_count": 6,
   "metadata": {},
   "outputs": [
    {
     "name": "stdout",
     "output_type": "stream",
     "text": [
      "Enter P : 12000\n",
      "Enter P : 10\n",
      "Enter P : 5\n",
      "6000.0\n"
     ]
    }
   ],
   "source": [
    "p = int(input(\"Enter P : \"));\n",
    "r = int(input(\"Enter r : \"));\n",
    "n = int(input(\"Enter n : \"));\n",
    "\n",
    "def simple(p,r,n):\n",
    "    return (P*r*n)/100;\n",
    "    \n",
    "print(simple(p,r,n))"
   ]
  },
  {
   "cell_type": "markdown",
   "metadata": {},
   "source": [
    "### 02) WAP that defines a function to add first n numbers."
   ]
  },
  {
   "cell_type": "code",
   "execution_count": 22,
   "metadata": {},
   "outputs": [
    {
     "name": "stdout",
     "output_type": "stream",
     "text": [
      "Enter number : 10\n",
      "45\n"
     ]
    }
   ],
   "source": [
    "n = int(input(\"Enter number : \"));\n",
    "\n",
    "\n",
    "def nadd(n):\n",
    "    total=0;\n",
    "    for i in range(n):\n",
    "        total = total + i;\n",
    "    print(total);\n",
    "\n",
    "nadd(n);"
   ]
  },
  {
   "cell_type": "markdown",
   "metadata": {},
   "source": [
    "### 03) WAP to find maximum number from given two numbers using function."
   ]
  },
  {
   "cell_type": "code",
   "execution_count": 25,
   "metadata": {},
   "outputs": [
    {
     "name": "stdout",
     "output_type": "stream",
     "text": [
      "Enter number first: 10\n",
      "Enter number second : 20\n",
      "20 is max\n"
     ]
    }
   ],
   "source": [
    "n1 = int(input(\"Enter number first: \"));\n",
    "n2 = int(input(\"Enter number second : \"));\n",
    "\n",
    "def maxtwo(n1,n2):\n",
    "    if n1 < n2:\n",
    "        print(f\"{n2} is max\");\n",
    "    else :\n",
    "        print(f\"{n1} is max\");\n",
    "\n",
    "maxtwo(n1,n2);"
   ]
  },
  {
   "cell_type": "markdown",
   "metadata": {},
   "source": [
    "### 04) WAP that defines a function which returns 1 if the number is prime otherwise return 0."
   ]
  },
  {
   "cell_type": "code",
   "execution_count": 30,
   "metadata": {},
   "outputs": [
    {
     "data": {
      "text/plain": [
       "0"
      ]
     },
     "execution_count": 30,
     "metadata": {},
     "output_type": "execute_result"
    }
   ],
   "source": [
    "# n = int(input(\"Enter number : \"));\n",
    "\n",
    "def chekprime(n):\n",
    "    if n<=1:\n",
    "        return 0\n",
    "    for i in range(2,n):\n",
    "        if n % i == 0 :\n",
    "            return 0\n",
    "    return 1\n",
    "       \n",
    "chekprime(15)"
   ]
  },
  {
   "cell_type": "markdown",
   "metadata": {},
   "source": [
    "### 05) Write a function called primes that takes an integer value as an argument and returns a list of all prime numbers up to that number."
   ]
  },
  {
   "cell_type": "code",
   "execution_count": 38,
   "metadata": {},
   "outputs": [
    {
     "name": "stdout",
     "output_type": "stream",
     "text": [
      "Enter n :15\n",
      "Prime : [2, 3, 5, 7, 11, 13]\n"
     ]
    }
   ],
   "source": [
    "def prime1(n):\n",
    "    l1 = [];\n",
    "    for i in range(2,n+1):\n",
    "        if chekprime(i) == 1:\n",
    "            l1.append(i);\n",
    "    return l1;\n",
    "\n",
    "n = int(input(\"Enter n :\"));\n",
    "print(f\"Prime : {prime1(n)}\");"
   ]
  },
  {
   "cell_type": "markdown",
   "metadata": {},
   "source": [
    "### 06) WAP to generate Fibonacci series of N given number using function name fibbo. (e.g. 0 1 1 2 3 5 8...)"
   ]
  },
  {
   "cell_type": "code",
   "execution_count": 43,
   "metadata": {},
   "outputs": [
    {
     "name": "stdout",
     "output_type": "stream",
     "text": [
      "Enter n :100\n",
      "Fibonacci series : [0, 1, 1, 2, 3, 5, 8, 13, 21, 34, 55, 89] \n"
     ]
    }
   ],
   "source": [
    "def fibbo(n):\n",
    "    fibb = [];\n",
    "    a,b=0,1;\n",
    "    while a<=n:\n",
    "        fibb.append(a);\n",
    "        a,b=b,a+b;\n",
    "    return fibb;\n",
    "\n",
    "n = int(input(\"Enter n :\"));\n",
    "print(f\"Fibonacci series : {fibbo(n)} \");"
   ]
  },
  {
   "cell_type": "markdown",
   "metadata": {},
   "source": [
    "### 07) WAP to find the factorial of a given number using recursion."
   ]
  },
  {
   "cell_type": "code",
   "execution_count": 33,
   "metadata": {},
   "outputs": [
    {
     "data": {
      "text/plain": [
       "720"
      ]
     },
     "execution_count": 33,
     "metadata": {},
     "output_type": "execute_result"
    }
   ],
   "source": [
    "def fac(n):\n",
    "    if n == 1:\n",
    "        return 1\n",
    "    else:\n",
    "        return n * fac(n-1)\n",
    "    \n",
    "fac(6)"
   ]
  },
  {
   "cell_type": "markdown",
   "metadata": {},
   "source": [
    "### 08) WAP to implement simple calculator using lamda function."
   ]
  },
  {
   "cell_type": "code",
   "execution_count": 47,
   "metadata": {},
   "outputs": [
    {
     "name": "stdout",
     "output_type": "stream",
     "text": [
      "Enter No1 : 10\n",
      "Enter No2 : 20\n",
      "Enter Operation : 7\n",
      "Answer : Invalid Choice\n"
     ]
    }
   ],
   "source": [
    "ans = lambda a,b,c : (a+b) if c == \"add\" or c == \"+\" else (a-b) if c == \"sub\" or c == \"-\" else (a*b) if c == \"mul\" or c == \"*\" else (a/b) if c == \"div\" or c == \"/\" else \"Invalid Choice\";\n",
    "no1 = int(input(\"Enter No1 : \"));\n",
    "no2 = int(input(\"Enter No2 : \"));\n",
    "choice = input(\"Enter Operation : \");\n",
    "print(f\"Answer : {ans(no1, no2, choice)}\");"
   ]
  },
  {
   "cell_type": "markdown",
   "metadata": {},
   "source": [
    "### 09)Write a Python program that accepts a hyphen-separated sequence of words as input and prints the words in a hyphen-separated sequence after sorting them alphabetically\n",
    "Sample Items : green-red-yellow-black-white <br>\n",
    "Expected Result : black-green-red-white-yellow"
   ]
  },
  {
   "cell_type": "code",
   "execution_count": 51,
   "metadata": {},
   "outputs": [
    {
     "name": "stdout",
     "output_type": "stream",
     "text": [
      "Enter String : i+am+dholakiya+meet\n",
      "['am', 'dholakiya', 'i', 'meet']\n"
     ]
    }
   ],
   "source": [
    "def sort(s):\n",
    "    l1 = s.split(\"+\");\n",
    "    l1.sort();\n",
    "    return l1\n",
    "\n",
    "s1 = input(\"Enter String : \");\n",
    "print(sort(s1));"
   ]
  },
  {
   "cell_type": "markdown",
   "metadata": {},
   "source": [
    "### 10) Write a python program to implement all function arguments type\n",
    "Positional arguments <Br>\n",
    "Default argument <Br>\n",
    "Keyword arguments (named arguments) <Br>\n",
    "Arbitrary arguments (variable-length arguments args and kwargs)"
   ]
  },
  {
   "cell_type": "code",
   "execution_count": 53,
   "metadata": {},
   "outputs": [
    {
     "name": "stdout",
     "output_type": "stream",
     "text": [
      "first value is : 10\n",
      "secound value is : 20\n",
      "first value is : 30\n",
      "secound value is : 10\n",
      "first value is : 10\n",
      "secound value is : 40\n",
      "(10, 20, 30)\n"
     ]
    }
   ],
   "source": [
    "def positional(a, b):\n",
    "    print(f\"first value is : {a}\")\n",
    "    print(f\"secound value is : {b}\")\n",
    "    \n",
    "def default(a, b = 10):\n",
    "     print(f\"first value is : {a}\")\n",
    "     print(f\"secound value is : {b}\")\n",
    "    \n",
    "def keyword(a,b):\n",
    "    print(f\"first value is : {a}\")\n",
    "    print(f\"secound value is : {b}\")\n",
    "    \n",
    "def arbitary(*a):\n",
    "    print(a)\n",
    "    \n",
    "positional(10,20)\n",
    "default(30)\n",
    "keyword(10,40)\n",
    "arbitary(10,20,30)"
   ]
  },
  {
   "cell_type": "code",
   "execution_count": null,
   "metadata": {},
   "outputs": [],
   "source": []
  },
  {
   "cell_type": "markdown",
   "metadata": {},
   "source": [
    "### 01) WAP to calculate power of a number using recursion."
   ]
  },
  {
   "cell_type": "code",
   "execution_count": 55,
   "metadata": {},
   "outputs": [
    {
     "name": "stdout",
     "output_type": "stream",
     "text": [
      "Enter Number : 2\n",
      "Enter Power : 5\n",
      "2 ^ 5 = 32\n"
     ]
    }
   ],
   "source": [
    "def power(no, p):\n",
    "  if p == 0:\n",
    "    return 1;\n",
    "  else:\n",
    "    return no * power(no, p-1);\n",
    "\n",
    "no = int(input(\"Enter Number : \"));\n",
    "p = int(input(\"Enter Power : \"));\n",
    "print(f\"{no} ^ {p} = {power(no, p)}\");"
   ]
  },
  {
   "cell_type": "markdown",
   "metadata": {},
   "source": [
    "### 02) WAP to count digits of a number using recursion."
   ]
  },
  {
   "cell_type": "code",
   "execution_count": 57,
   "metadata": {},
   "outputs": [
    {
     "name": "stdout",
     "output_type": "stream",
     "text": [
      "Enter Number : 10000\n",
      "Number of digits : 5\n"
     ]
    }
   ],
   "source": [
    "def count(n):\n",
    "  if n == 0:\n",
    "    return 0;\n",
    "  else:\n",
    "    return 1 + count(n//10);\n",
    "  \n",
    "n = int(input(\"Enter Number : \"));\n",
    "print(f\"Number of digits : {count(n)}\");"
   ]
  },
  {
   "cell_type": "markdown",
   "metadata": {},
   "source": [
    "### 03) WAP to reverse an integer number using recursion."
   ]
  },
  {
   "cell_type": "code",
   "execution_count": 59,
   "metadata": {},
   "outputs": [
    {
     "name": "stdout",
     "output_type": "stream",
     "text": [
      "Enter Number : 12345\n",
      "Reversed Number : 54321\n"
     ]
    }
   ],
   "source": [
    "def revInt(n):\n",
    "  if n == 0:\n",
    "    return 0;\n",
    "  else:\n",
    "    return (n%10)*10**(len(str(n))-1) + revInt(n//10);\n",
    "\n",
    "n = int(input(\"Enter Number : \"));\n",
    "print(f\"Reversed Number : {revInt(n)}\");"
   ]
  },
  {
   "cell_type": "markdown",
   "metadata": {},
   "source": [
    "### 04) WAP to convert decimal number into binary using recursion."
   ]
  },
  {
   "cell_type": "code",
   "execution_count": 62,
   "metadata": {},
   "outputs": [
    {
     "name": "stdout",
     "output_type": "stream",
     "text": [
      "Enter Number : 15\n",
      "decimal Number : 1111\n"
     ]
    }
   ],
   "source": [
    "def bina(n):\n",
    "  if n == 0:\n",
    "    return 0;\n",
    "  else:\n",
    "    return n%2 + 10*bina(n//2);\n",
    "\n",
    "n = int(input(\"Enter Number : \"));\n",
    "print(f\"decimal Number : {bina(n)}\");"
   ]
  }
 ],
 "metadata": {
  "kernelspec": {
   "display_name": "Python 3 (ipykernel)",
   "language": "python",
   "name": "python3"
  },
  "language_info": {
   "codemirror_mode": {
    "name": "ipython",
    "version": 3
   },
   "file_extension": ".py",
   "mimetype": "text/x-python",
   "name": "python",
   "nbconvert_exporter": "python",
   "pygments_lexer": "ipython3",
   "version": "3.9.13"
  }
 },
 "nbformat": 4,
 "nbformat_minor": 4
}
